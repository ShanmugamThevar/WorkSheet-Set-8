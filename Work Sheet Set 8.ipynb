{
 "cells": [
  {
   "cell_type": "markdown",
   "metadata": {},
   "source": [
    "# Machine Learning"
   ]
  },
  {
   "cell_type": "markdown",
   "metadata": {},
   "source": [
    "1. What is the advantage of hierarchical clustering over K-means clustering?\n",
    "\n",
    "Ans. B) In hierarchical clustering you don’t need to assign number of clusters in beginning"
   ]
  },
  {
   "cell_type": "markdown",
   "metadata": {},
   "source": [
    "2. Which of the following hyper parameter(s), when increased may cause random forest to over fit the \n",
    "data?\n",
    "\n",
    "Ans. A) max_depth "
   ]
  },
  {
   "cell_type": "markdown",
   "metadata": {},
   "source": [
    "3. Which of the following is the least preferable resampling method in handling imbalance datasets?\n",
    "\n",
    "Ans. C) RandomUnderSampler"
   ]
  },
  {
   "cell_type": "markdown",
   "metadata": {},
   "source": [
    "4. Which of the following statements is/are true about “Type-1” and “Type-2” errors?\n",
    "\n",
    "Ans. C) 1 and 3"
   ]
  },
  {
   "cell_type": "markdown",
   "metadata": {},
   "source": [
    "5. Arrange the steps of k-means algorithm in the order in which they occur:\n",
    "\n",
    "Ans. D) 1-3-2"
   ]
  },
  {
   "cell_type": "markdown",
   "metadata": {},
   "source": [
    "6. Which of the following algorithms is not advisable to use when you have limited CPU resources and \n",
    "time, and when the data set is relatively large?\n",
    "\n",
    "Ans. A) Decision Trees"
   ]
  },
  {
   "cell_type": "markdown",
   "metadata": {},
   "source": [
    "7. What is the main difference between CART (Classification and Regression Trees) and CHAID (Chi \n",
    "Square Automatic Interaction Detection) Trees?\n",
    "\n",
    "Ans. C) CART can only create binary trees (a maximum of two children for a node), and CHAID can create \n",
    "multiway trees (more than two children for a node)"
   ]
  },
  {
   "cell_type": "markdown",
   "metadata": {},
   "source": [
    "8. In Ridge and Lasso regularization if you take a large value of regularization constant(lambda), which \n",
    "of the following things may occur?\n",
    "\n",
    "Ans. B) Lasso will lead to some of the coefficients to be very close to 0 and C) Ridge will cause some of the coefficients to become 0"
   ]
  },
  {
   "cell_type": "markdown",
   "metadata": {},
   "source": [
    "9. Which of the following methods can be used to treat two multi-collinear features?\n",
    " \n",
    "Ans. C) Use ridge regularization and D) use Lasso regularization"
   ]
  },
  {
   "cell_type": "markdown",
   "metadata": {},
   "source": [
    "10. After using linear regression, we find that the bias is very low, while the variance is very high. What \n",
    "are the possible reasons for this?\n",
    "\n",
    "Ans. A) Overfitting and D) Outliers"
   ]
  },
  {
   "cell_type": "markdown",
   "metadata": {},
   "source": [
    "11. In which situation One-hot encoding must be avoided? Which encoding technique can be used in \n",
    "such a case?\n",
    "\n",
    "Ans. One hot encoder must be avoided when there are no numerical categorical values/string and label encoder can be used in this case."
   ]
  },
  {
   "cell_type": "markdown",
   "metadata": {},
   "source": [
    "12. In case of data imbalance problem in classification, what techniques can be used to balance the \n",
    "dataset? Explain them briefly.\n",
    "\n",
    "Ans. SMOTE and ADASYN can be used to balance an imbalance dataset.\n",
    "\n",
    "1. SMOTE (Synthetic Minority Oversampling technique)\n",
    "SMOTE stands for Synthetic Minority Over-Sampling Technique. SMOTE is performing the same basic task as basic resampling (creating new data points for the minority class) but instead of simply duplicating observations, it creates new observations along the lines of a randomly chosen point and its nearest neighbors.\n",
    "\n",
    "2. ADASYN\n",
    "ADASYN (Adaptive Synthetic) is an algorithm that generates synthetic data, and its greatest advantages are not copying the same minority data, and generating more data for “harder to learn” examples."
   ]
  },
  {
   "cell_type": "markdown",
   "metadata": {},
   "source": [
    "13. What is the difference between SMOTE and ADASYN sampling techniques\n",
    "\n",
    "Ans. SMOTE (Synthetic Minority Oversampling TEchnique) and ADASYN (ADAptive SYNthetic) are both techniques used to handle imbalance dataset. The key difference between ADASYN and SMOTE is that the former uses a density distribution, as a criterion to automatically decide the number of synthetic samples that must be generated for each minority sample by adaptively changing the weights of the different minority samples to compensate for the skewed distributions. The latter generates the same number of synthetic samples for each original minority sample. ADASYN gives us much better detail, while SMOTE tends to cover the boundary by joining points if they’re close together.  "
   ]
  },
  {
   "cell_type": "markdown",
   "metadata": {},
   "source": [
    "14. What is the purpose of using GridSearchCV? Is it preferable to use in case of large datasets? Why or \n",
    "why not?\n",
    "\n",
    "Ans. GridSearchCV helps to loop through predefined hyperparameters and fit the estimator (model) on the given training set. It is not preferable to used in large dataset as it is time consuming and will improve the result by very low accuracy rate."
   ]
  },
  {
   "cell_type": "markdown",
   "metadata": {},
   "source": [
    "15. List down some of the evaluation metric used to evaluate a regression model. Explain each of them \n",
    "in brief\n",
    "\n",
    "Ans. The evaluation metrics for Regression:\n",
    "a) Mean Squared Error\n",
    "b) Root Mean Squared Error\n",
    "c) Mean Absolute Error\n",
    "\n",
    "Mean Squared Error:\n",
    "Mean Square Error (MSE) is the Mean or Average of the square of the difference between actual and estimated values.\n",
    "\n",
    "Root Mean Squared Error:\n",
    "The Root Mean Squared Error (RMSE) is the sample standard deviation of the differences between the predicted and observed values.\n",
    "\n",
    "Mean Absolute Error:\n",
    "Mean absolute error (MAE) is a measure of errors between paired observations expressing the same phenomenon.\n"
   ]
  },
  {
   "cell_type": "code",
   "execution_count": null,
   "metadata": {},
   "outputs": [],
   "source": []
  },
  {
   "cell_type": "code",
   "execution_count": null,
   "metadata": {},
   "outputs": [],
   "source": []
  },
  {
   "cell_type": "markdown",
   "metadata": {},
   "source": [
    "# Statistics"
   ]
  },
  {
   "cell_type": "markdown",
   "metadata": {},
   "source": [
    "1. In hypothesis testing, type II error is represented by β and the power of the test is 1−β then β is:\n",
    "\n",
    "Ans. d. The probability of rejecting H0 when H1 is true"
   ]
  },
  {
   "cell_type": "markdown",
   "metadata": {},
   "source": [
    "2. In hypothesis testing, the hypothesis which is tentatively assumed to be true is called the\n",
    "\n",
    "Ans. a. correct hypothesis"
   ]
  },
  {
   "cell_type": "markdown",
   "metadata": {},
   "source": [
    "3. When the null hypothesis has been true, but the sample information has resulted in the rejection of the null, a \n",
    "_________ has been made\n",
    "\n",
    "Ans. d. Type I error"
   ]
  },
  {
   "cell_type": "markdown",
   "metadata": {},
   "source": [
    "4.For finding the p-value when the population standard deviation is unknown, if it is reasonable to assume that the \n",
    "population is normal, we use\n",
    "\n",
    "Ans. b. the t distribution with n - 1 degrees of freedom"
   ]
  },
  {
   "cell_type": "markdown",
   "metadata": {},
   "source": [
    "5. A Type II error is the error of\n",
    "\n",
    "Ans. a. accepting Ho when it is false"
   ]
  },
  {
   "cell_type": "markdown",
   "metadata": {},
   "source": [
    "6. A hypothesis test in which rejection of the null hypothesis occurs for values of the point estimator in either tail of \n",
    "the sampling distribution is called\n",
    "\n",
    "Ans. d. a two-tailed test"
   ]
  },
  {
   "cell_type": "markdown",
   "metadata": {},
   "source": [
    "7. In hypothesis testing, the level of significance is\n",
    "\n",
    "Ans. b. the probability of committing a Type I error"
   ]
  },
  {
   "cell_type": "markdown",
   "metadata": {},
   "source": [
    "8. In hypothesis testing, b is\n",
    "\n",
    "Ans. a. the probability of committing a Type II error"
   ]
  },
  {
   "cell_type": "markdown",
   "metadata": {},
   "source": [
    "9. When testing the following hypotheses at an α level of significance\n",
    "H0: p = 0.7\n",
    "H1: p > 0.7\n",
    "The null hypothesis will be rejected if the test statistic Z is\n",
    "\n",
    "Ans. a. z > zα"
   ]
  },
  {
   "cell_type": "markdown",
   "metadata": {},
   "source": [
    "10. Which of the following does not need to be known in order to compute the P-value?\n",
    "\n",
    "Ans. c. the level of significance"
   ]
  },
  {
   "cell_type": "markdown",
   "metadata": {},
   "source": [
    "11. The maximum probability of a Type I error that the decision maker will tolerate is called the\n",
    "\n",
    "Ans. a. level of significance"
   ]
  },
  {
   "cell_type": "markdown",
   "metadata": {},
   "source": [
    "12. For t distribution, increasing the sample size, the effect will be on\n",
    "\n",
    "Ans. a. Degrees of Freedom"
   ]
  },
  {
   "cell_type": "markdown",
   "metadata": {},
   "source": [
    "13. What is Anova in SPSS?\n",
    "\n",
    "Ans. ANOVA in SPSS is used as the test of means for two or more populations. It must have a dependent variable which should be metric (measured using an interval or ratio scale) and it must also have one or more independent variables, which should be categorical in nature."
   ]
  },
  {
   "cell_type": "markdown",
   "metadata": {},
   "source": [
    "14. What are the assumptions of Anova?\n",
    "\n",
    "Ans. The assumptions of the ANOVA test are\n",
    "\n",
    "a) Independence of observations: the data were collected using statistically-valid methods, and there are no hidden relationships among observations.\n",
    "    \n",
    "b) Normally-distributed response variable: The values of the dependent variable follow a normal distribution.\n",
    "\n",
    "c) Homogeneity of variance: The variation within each group being compared is similar for every group. If the variances are different among the groups, then ANOVA probably isn’t the right fit for the data."
   ]
  },
  {
   "cell_type": "markdown",
   "metadata": {},
   "source": [
    "15. What is the difference between one way Anova and two way Anova?\n",
    "\n",
    "Ans. The difference between one way and two way ANOVA is that one-way Anova is a hypothesis test used to test the equality of three or more population means simultaneously using variance whereas two-way Anova is a statistical technique wherein, the interaction between factors, influencing variable can be studied."
   ]
  },
  {
   "cell_type": "code",
   "execution_count": null,
   "metadata": {},
   "outputs": [],
   "source": []
  },
  {
   "cell_type": "code",
   "execution_count": null,
   "metadata": {},
   "outputs": [],
   "source": []
  },
  {
   "cell_type": "markdown",
   "metadata": {},
   "source": [
    "# Python"
   ]
  },
  {
   "cell_type": "markdown",
   "metadata": {},
   "source": [
    "1. Which of the following operators is used to calculate remainder in a division?\n",
    "\n",
    "Ans. C) %"
   ]
  },
  {
   "cell_type": "markdown",
   "metadata": {},
   "source": [
    "2. In python 2//3 is equal to?\n",
    "\n",
    "Ans. B) 0"
   ]
  },
  {
   "cell_type": "markdown",
   "metadata": {},
   "source": [
    "3. In python, 6<<2 is equal to?\n",
    "\n",
    "Ans. C) 24 "
   ]
  },
  {
   "cell_type": "markdown",
   "metadata": {},
   "source": [
    "4. In python, 6&2 will give which of the following as output?\n",
    "\n",
    "Ans. A) 2 "
   ]
  },
  {
   "cell_type": "markdown",
   "metadata": {},
   "source": [
    "5. In python, 6|2 will give which of the following as output?\n",
    "\n",
    "Ans. D) 6"
   ]
  },
  {
   "cell_type": "markdown",
   "metadata": {},
   "source": [
    "6. What does the finally keyword denotes in python?\n",
    "\n",
    "Ans. C) the finally block will be executed no matter if the try block raises an error or not."
   ]
  },
  {
   "cell_type": "markdown",
   "metadata": {},
   "source": [
    "7. What does raise keyword is used for in python?\n",
    "\n",
    "Ans. A) It is used to raise an exception."
   ]
  },
  {
   "cell_type": "markdown",
   "metadata": {},
   "source": [
    "8. Which of the following is a common use case of yield keyword in python?\n",
    "\n",
    "Ans. C) in defining a generator"
   ]
  },
  {
   "cell_type": "markdown",
   "metadata": {},
   "source": [
    "9. Which of the following are the valid variable names?\n",
    "\n",
    "Ans. C) abc2"
   ]
  },
  {
   "cell_type": "markdown",
   "metadata": {},
   "source": [
    "10. Which of the following are the keywords in python?\n",
    "\n",
    "Ans. A) yield and B) raise"
   ]
  },
  {
   "cell_type": "code",
   "execution_count": null,
   "metadata": {},
   "outputs": [],
   "source": []
  }
 ],
 "metadata": {
  "kernelspec": {
   "display_name": "Python 3",
   "language": "python",
   "name": "python3"
  },
  "language_info": {
   "codemirror_mode": {
    "name": "ipython",
    "version": 3
   },
   "file_extension": ".py",
   "mimetype": "text/x-python",
   "name": "python",
   "nbconvert_exporter": "python",
   "pygments_lexer": "ipython3",
   "version": "3.8.5"
  }
 },
 "nbformat": 4,
 "nbformat_minor": 4
}
